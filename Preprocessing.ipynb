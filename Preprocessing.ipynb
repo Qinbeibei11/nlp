{
 "cells": [
  {
   "cell_type": "markdown",
   "metadata": {},
   "source": [
    "# Data Preprocessing\n",
    "\n",
    "合并多个来源的数据文件"
   ]
  },
  {
   "cell_type": "code",
   "execution_count": 16,
   "metadata": {},
   "outputs": [
    {
     "name": "stderr",
     "output_type": "stream",
     "text": [
      "C:\\Users\\penguin\\Anaconda3\\Lib\\site-packages\\tables\\leaf.py:414: PerformanceWarning: The Leaf ``/df/_i_table/content/sorted`` is exceeding the maximum recommended rowsize (104857600 bytes);\n",
      "be ready to see PyTables asking for *lots* of memory and possibly slow\n",
      "I/O.  You may want to reduce the rowsize by trimming the value of\n",
      "dimensions that are orthogonal (and preferably close) to the *main*\n",
      "dimension of this leave.  Alternatively, in case you have specified a\n",
      "very small/large chunksize, you may want to increase/decrease it.\n",
      "  PerformanceWarning)\n"
     ]
    }
   ],
   "source": [
    "# Source：食安中国\n",
    "# Records: 4396\n",
    "\n",
    "import pandas as pd\n",
    "\n",
    "with pd.HDFStore('20180504234042.h5',  mode='r') as newstore:\n",
    "    df = newstore.select('df')   \n",
    "df.insert(0, 'src', '食安中国')\n",
    "df.insert(0, 'label', '食品安全')"
   ]
  },
  {
   "cell_type": "code",
   "execution_count": 17,
   "metadata": {},
   "outputs": [
    {
     "data": {
      "text/plain": [
       "label      4396\n",
       "src        4396\n",
       "url        4396\n",
       "date       4396\n",
       "title      4396\n",
       "content    4396\n",
       "dtype: int64"
      ]
     },
     "execution_count": 17,
     "metadata": {},
     "output_type": "execute_result"
    }
   ],
   "source": [
    "df.count()"
   ]
  },
  {
   "cell_type": "code",
   "execution_count": 18,
   "metadata": {
    "scrolled": true
   },
   "outputs": [
    {
     "name": "stderr",
     "output_type": "stream",
     "text": [
      "C:\\Users\\penguin\\Anaconda3\\Lib\\site-packages\\tables\\leaf.py:414: PerformanceWarning: The Leaf ``/df/_i_table/content/sorted`` is exceeding the maximum recommended rowsize (104857600 bytes);\n",
      "be ready to see PyTables asking for *lots* of memory and possibly slow\n",
      "I/O.  You may want to reduce the rowsize by trimming the value of\n",
      "dimensions that are orthogonal (and preferably close) to the *main*\n",
      "dimension of this leave.  Alternatively, in case you have specified a\n",
      "very small/large chunksize, you may want to increase/decrease it.\n",
      "  PerformanceWarning)\n"
     ]
    }
   ],
   "source": [
    "# Source: 中国食品安全网 - 专家解读专栏\n",
    "# Records: 228\n",
    "\n",
    "import pandas as pd\n",
    "\n",
    "with pd.HDFStore('20180505104507.h5',  mode='r') as newstore:\n",
    "    df_tmp = newstore.select('df')\n",
    "    \n",
    "df_tmp.insert(0, 'src', '中国食品安全网 - 专家解读专栏')\n",
    "df_tmp.insert(0, 'label', '食品安全')"
   ]
  },
  {
   "cell_type": "code",
   "execution_count": 19,
   "metadata": {},
   "outputs": [],
   "source": [
    "df = df.append(df_tmp,ignore_index=True)"
   ]
  },
  {
   "cell_type": "code",
   "execution_count": 20,
   "metadata": {},
   "outputs": [
    {
     "name": "stderr",
     "output_type": "stream",
     "text": [
      "C:\\Users\\penguin\\Anaconda3\\Lib\\site-packages\\tables\\leaf.py:414: PerformanceWarning: The Leaf ``/df/_i_table/content/sorted`` is exceeding the maximum recommended rowsize (104857600 bytes);\n",
      "be ready to see PyTables asking for *lots* of memory and possibly slow\n",
      "I/O.  You may want to reduce the rowsize by trimming the value of\n",
      "dimensions that are orthogonal (and preferably close) to the *main*\n",
      "dimension of this leave.  Alternatively, in case you have specified a\n",
      "very small/large chunksize, you may want to increase/decrease it.\n",
      "  PerformanceWarning)\n"
     ]
    }
   ],
   "source": [
    "# Source: 中国食品安全网 - 曝光专栏\n",
    "# Records: 24\n",
    "\n",
    "import pandas as pd\n",
    "\n",
    "with pd.HDFStore('20180505174019.h5',  mode='r') as newstore:\n",
    "    df_tmp = newstore.select('df')\n",
    "    \n",
    "df_tmp.insert(0, 'src', '中国食品安全网 - 曝光专栏')\n",
    "df_tmp.insert(0, 'label', '食品安全')"
   ]
  },
  {
   "cell_type": "code",
   "execution_count": 21,
   "metadata": {},
   "outputs": [
    {
     "data": {
      "text/plain": [
       "label      4648\n",
       "src        4648\n",
       "url        4648\n",
       "date       4648\n",
       "title      4648\n",
       "content    4648\n",
       "dtype: int64"
      ]
     },
     "execution_count": 21,
     "metadata": {},
     "output_type": "execute_result"
    }
   ],
   "source": [
    "df = df.append(df_tmp,ignore_index=True)\n",
    "df.count()"
   ]
  },
  {
   "cell_type": "markdown",
   "metadata": {},
   "source": [
    "导入其他类型文本数据"
   ]
  },
  {
   "cell_type": "code",
   "execution_count": 53,
   "metadata": {},
   "outputs": [
    {
     "data": {
      "text/plain": [
       "label      5599\n",
       "src        4648\n",
       "url        4648\n",
       "date       4648\n",
       "title      4648\n",
       "content    5599\n",
       "dtype: int64"
      ]
     },
     "execution_count": 53,
     "metadata": {},
     "output_type": "execute_result"
    }
   ],
   "source": [
    "from os import listdir\n",
    "from os.path import isfile, join\n",
    "\n",
    "parent_dir = \"train_small\"\n",
    "\n",
    "for sdir in os.listdir(parent_dir):\n",
    "    sdir_full = os.path.join(parent_dir, sdir)\n",
    "    for f in listdir(sdir_full):\n",
    "        full_filepath = join(sdir_full, f)\n",
    "        if isfile(full_filepath):            \n",
    "            with open(full_filepath, 'r',encoding='gb18030',errors='ignore') as fo:\n",
    "                new_row = {'label': sdir, 'content': fo.read()}                \n",
    "                df = df.append(new_row, ignore_index = True)\n",
    "            \n",
    "df.count()"
   ]
  },
  {
   "cell_type": "code",
   "execution_count": 59,
   "metadata": {
    "scrolled": true
   },
   "outputs": [
    {
     "name": "stdout",
     "output_type": "stream",
     "text": [
      "label\n",
      "人才        44\n",
      "体育       200\n",
      "卫生       101\n",
      "娱乐       108\n",
      "房产        66\n",
      "教育        58\n",
      "汽车        42\n",
      "电脑       210\n",
      "科技        75\n",
      "财经        47\n",
      "食品安全    4648\n",
      "Name: label, dtype: int64\n"
     ]
    }
   ],
   "source": [
    "print(df.groupby(['label'])['label'].count())"
   ]
  },
  {
   "cell_type": "code",
   "execution_count": 60,
   "metadata": {
    "scrolled": false
   },
   "outputs": [
    {
     "name": "stderr",
     "output_type": "stream",
     "text": [
      "C:\\Users\\penguin\\Anaconda3\\Lib\\site-packages\\tables\\leaf.py:414: PerformanceWarning: The Leaf ``/df/_i_table/content/sorted`` is exceeding the maximum recommended rowsize (104857600 bytes);\n",
      "be ready to see PyTables asking for *lots* of memory and possibly slow\n",
      "I/O.  You may want to reduce the rowsize by trimming the value of\n",
      "dimensions that are orthogonal (and preferably close) to the *main*\n",
      "dimension of this leave.  Alternatively, in case you have specified a\n",
      "very small/large chunksize, you may want to increase/decrease it.\n",
      "  PerformanceWarning)\n"
     ]
    }
   ],
   "source": [
    "with pd.HDFStore('FoodSafetyAriticles.h5',  mode='w') as store:\n",
    "    store.append('df', df, data_columns= df.columns, format='table')"
   ]
  },
  {
   "cell_type": "markdown",
   "metadata": {},
   "source": [
    "Compress h5 file to zip"
   ]
  }
 ],
 "metadata": {
  "kernelspec": {
   "display_name": "Python 3",
   "language": "python",
   "name": "python3"
  },
  "language_info": {
   "codemirror_mode": {
    "name": "ipython",
    "version": 3
   },
   "file_extension": ".py",
   "mimetype": "text/x-python",
   "name": "python",
   "nbconvert_exporter": "python",
   "pygments_lexer": "ipython3",
   "version": "3.5.5"
  }
 },
 "nbformat": 4,
 "nbformat_minor": 2
}
